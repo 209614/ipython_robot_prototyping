{
 "cells": [
  {
   "cell_type": "markdown",
   "metadata": {},
   "source": [
    "### Visualizing robot senses using ROS and Bokeh library\n",
    "\n",
    "As you can see, robots publish many topics that could be interesting to see. \n",
    "Visualizing state of a sensor is a first step to programming using this sense or debugging if something goes wrong.\n",
    "\n",
    "We will start with visualizing the state of the turtlesim through some cool techniques."
   ]
  },
  {
   "cell_type": "code",
   "execution_count": 1,
   "metadata": {},
   "outputs": [
    {
     "name": "stdout",
     "output_type": "stream",
     "text": [
      "env: ROS_MASTER_URI=http://localhost:11311\n"
     ]
    }
   ],
   "source": [
    "%env ROS_MASTER_URI=http://localhost:11311\n",
    "import rospy\n",
    "import roslaunch\n",
    "import rosnode\n",
    "\n"
   ]
  },
  {
   "cell_type": "code",
   "execution_count": 11,
   "metadata": {
    "scrolled": false
   },
   "outputs": [
    {
     "data": {
      "text/plain": [
       "0"
      ]
     },
     "execution_count": 11,
     "metadata": {},
     "output_type": "execute_result"
    }
   ],
   "source": [
    "import os\n",
    "\n",
    "os.system(\"rosrun ipython_robot_prototyping roomba_simulator.py &\")\n",
    "os.system(\"rosrun turtlesim turtlesim_node &\")"
   ]
  },
  {
   "cell_type": "markdown",
   "metadata": {},
   "source": [
    "With the fallowing commands we have started two ROS Nodes -- one is a familiar turtlebot simulator and the other is a simple control node for the turtle that turns turtle around when she is near the wall so that it does not crash.\n",
    "\n",
    "\n",
    "What is also does is it calculates the distance of the turtle to the wall she is heading to.\n",
    "\n",
    "Lets see all the turtle's topics"
   ]
  },
  {
   "cell_type": "code",
   "execution_count": 3,
   "metadata": {},
   "outputs": [
    {
     "name": "stdout",
     "output_type": "stream",
     "text": [
      "(('/turtle1/distance', 'sensor_msgs/Range'), ('/turtle1/color_sensor', 'turtlesim/Color'), ('/turtle1/cmd_vel', 'geometry_msgs/Twist'), ('/turtle1/pose', 'turtlesim/Pose'))\n"
     ]
    }
   ],
   "source": [
    "turtle_topics= tuple((topic_name,topic_type) \n",
    "                     for topic_name, topic_type in rospy.get_published_topics()\n",
    "                     if \"turtle\" in topic_name)\n",
    "\n",
    "print(turtle_topics)"
   ]
  },
  {
   "cell_type": "markdown",
   "metadata": {},
   "source": [
    "There are couple of interesting topics there, like distance or pose. How we can visualise them?\n",
    "\n",
    "In case of turtlesim it is easy to see what the distance or position are by just looking at it. That is nice but in case of real robots we are not only interested in the actual position and orientation but also on robots _sensor_ readings that is, robots sensors. The distance in /turtle1/distance is something calculated, but does it actally make sense? It is very important to have a way to visualise sensor data and luckyly, there are many ways in ROS to do it:\n",
    "\n",
    " - The easiest way is to use _rostopic echo_ command. You just put, for example rostopic echo /turtle1/distance to see the distance values. Try to do it now.\n",
    " \n",
    " - The second option is to use another ROS command -- rqt_plot.\n"
   ]
  },
  {
   "cell_type": "code",
   "execution_count": 19,
   "metadata": {},
   "outputs": [
    {
     "data": {
      "text/plain": [
       "0"
      ]
     },
     "execution_count": 19,
     "metadata": {},
     "output_type": "execute_result"
    }
   ],
   "source": [
    "os.system(\"rqt_plot /turtle1/distance/range\")"
   ]
  },
  {
   "cell_type": "markdown",
   "metadata": {},
   "source": [
    "The command is nice as it automaticly scales a plot to fit the changing data. It also allows you to add different topics through graphical user interface or by putting different topic names when starting the tool( i.e. rqt_prot /turtle1/distance/range /turtle1/pose/x ). There is also a settings button in the right top corner to further set things up\n",
    "\n",
    " - It would be nice though to see the things directely in the Ipython notebook, to be able to see how the things change when we play around. We will show you couple of ways to do that"
   ]
  },
  {
   "cell_type": "markdown",
   "metadata": {},
   "source": [
    "### Ipython widgets"
   ]
  },
  {
   "cell_type": "markdown",
   "metadata": {
    "collapsed": true
   },
   "source": [
    "The first way, especially if there is a single changing value is to use IPython slider but as an output view.\n",
    "\n",
    "The easiest way it to change the sliders __value__ parameter in subscriber callback function.\n",
    "\n",
    "First let's create a slider. Because range is a float, we will be using a float slider. "
   ]
  },
  {
   "cell_type": "code",
   "execution_count": 15,
   "metadata": {},
   "outputs": [
    {
     "data": {
      "application/vnd.jupyter.widget-view+json": {
       "model_id": "1f4f27d29734471fb6dcba37f61031d0"
      }
     },
     "metadata": {},
     "output_type": "display_data"
    }
   ],
   "source": [
    "from ipywidgets import FloatSlider\n",
    "from IPython.display import display\n",
    "distance_slider = FloatSlider(\n",
    "    value=7.5,\n",
    "    min=0,\n",
    "    max=10.0,\n",
    "    step=0.1,\n",
    "    description='The distance to the wall',\n",
    ")\n",
    "\n",
    "distance_slider"
   ]
  },
  {
   "cell_type": "markdown",
   "metadata": {},
   "source": [
    "Now, let's create a subscriber with a callback function that changes value of the slider. \n",
    "\n"
   ]
  },
  {
   "cell_type": "code",
   "execution_count": 5,
   "metadata": {
    "collapsed": true,
    "scrolled": false
   },
   "outputs": [],
   "source": [
    "rospy.init_node(\"distance_reader\")"
   ]
  },
  {
   "cell_type": "code",
   "execution_count": 20,
   "metadata": {},
   "outputs": [],
   "source": [
    "from sensor_msgs.msg import Range\n",
    "def read_distance_show_on_slider(range_msg,slider):\n",
    "    ''' The callback function that reads the range message from the turtle and presents it on a slider'''\n",
    "\n",
    "    slider.value=range_msg.range\n",
    "\n",
    "\n",
    "distance_subscriber= rospy.Subscriber('turtle1/distance',\n",
    "                                      Range, \n",
    "                                      read_distance_show_on_slider,callback_args=distance_slider)"
   ]
  },
  {
   "cell_type": "code",
   "execution_count": 24,
   "metadata": {
    "collapsed": true
   },
   "outputs": [],
   "source": [
    "### this will stop updating the slider\n",
    "distance_subscriber.unregister()"
   ]
  },
  {
   "cell_type": "markdown",
   "metadata": {},
   "source": [
    "We can see that the slider created before runs on its own! Now it is much easier to understand what the robot \"sees\" when running around.\n",
    "\n",
    "Notice that our callback function has a second argument, to have room for some universality. We pass value to this argument by putting it to callback_args parameter when defining the Subscriber object"
   ]
  },
  {
   "cell_type": "markdown",
   "metadata": {},
   "source": [
    "### Excercise:\n",
    "\n",
    "There is also a control message from our \"roomba simulator\". Try to read the control message to see how they synchronize. Create two new sliders one for cmd vel linear x and the second for cmd vel angular z.\n",
    "\n",
    "Put the 3 sliders one below the other to see how these values are synchronized"
   ]
  },
  {
   "cell_type": "code",
   "execution_count": 12,
   "metadata": {
    "collapsed": true
   },
   "outputs": [],
   "source": [
    "linear_x_slider = FloatSlider(\n",
    "    value=0,\n",
    "    min=-2,\n",
    "    max=2,\n",
    "    step=0.1,\n",
    "    description='The forward speed',\n",
    ")\n",
    "\n",
    "angular_z_slider = FloatSlider(\n",
    "    value=0,\n",
    "    min=-10,\n",
    "    max=10,\n",
    "    step=0.1,\n",
    "    description='The angular speed',\n",
    ")\n"
   ]
  },
  {
   "cell_type": "code",
   "execution_count": null,
   "metadata": {
    "collapsed": true
   },
   "outputs": [],
   "source": [
    "### define the callback function\n",
    "\n",
    "def read_x_z_show_on_slider(range_msg):\n",
    "    \n",
    "    linear_x_slider.value=...\n",
    "    angular_z_slider.value=...\n",
    "    \n",
    "### define here the two subscribe objects\n",
    "\n",
    "linear_x_subscriber = rospy.Subscriber('turtle1/distance')\n",
    "angular_z_subscriber = rospy.Subscriber\n"
   ]
  },
  {
   "cell_type": "code",
   "execution_count": 18,
   "metadata": {},
   "outputs": [
    {
     "data": {
      "application/vnd.jupyter.widget-view+json": {
       "model_id": "1f4f27d29734471fb6dcba37f61031d0"
      }
     },
     "metadata": {},
     "output_type": "display_data"
    },
    {
     "data": {
      "application/vnd.jupyter.widget-view+json": {
       "model_id": "8e4a365234484b679ef6c44b583fb046"
      }
     },
     "metadata": {},
     "output_type": "display_data"
    },
    {
     "data": {
      "application/vnd.jupyter.widget-view+json": {
       "model_id": "51745b4174d442c39a13d963795e23f7"
      }
     },
     "metadata": {},
     "output_type": "display_data"
    }
   ],
   "source": [
    "### we can display all the sliders here\n",
    "\n",
    "display(distance_slider)\n",
    "display(linear_x_slider)\n",
    "display(angular_z_slider)"
   ]
  },
  {
   "cell_type": "markdown",
   "metadata": {
    "collapsed": true
   },
   "source": [
    "While this approach is ok, you can see that we are mixing the display of the data (slider) with some logic -- the things we do when reading the values. We can do it in nicer way using objects. Our object will have _traits_ -- special elements that will we will know when they change. "
   ]
  },
  {
   "cell_type": "code",
   "execution_count": 23,
   "metadata": {},
   "outputs": [],
   "source": [
    "import traitlets\n",
    "class Gather_Data(traitlets.HasTraits):\n",
    "    '''A class that gathers information from two topics'''\n",
    "    \n",
    "    # here we define a 3 traits that we will fallow\n",
    "    distance=traitlets.Float()\n",
    "    lin_speed=traitlets.Float()\n",
    "    ang_speed=traitlets.Float()\n",
    "    \n",
    "    def __init__(self):\n",
    "        pass"
   ]
  },
  {
   "cell_type": "code",
   "execution_count": null,
   "metadata": {
    "collapsed": true
   },
   "outputs": [],
   "source": []
  }
 ],
 "metadata": {
  "kernelspec": {
   "display_name": "Python 3",
   "language": "python",
   "name": "python3"
  },
  "language_info": {
   "codemirror_mode": {
    "name": "ipython",
    "version": 3
   },
   "file_extension": ".py",
   "mimetype": "text/x-python",
   "name": "python",
   "nbconvert_exporter": "python",
   "pygments_lexer": "ipython3",
   "version": "3.4.3"
  }
 },
 "nbformat": 4,
 "nbformat_minor": 2
}
