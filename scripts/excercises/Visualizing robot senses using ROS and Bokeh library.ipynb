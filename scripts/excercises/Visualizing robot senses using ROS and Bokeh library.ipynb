{
 "cells": [
  {
   "cell_type": "markdown",
   "metadata": {},
   "source": [
    "### Visualizing robot senses using ROS and Bokeh library\n",
    "\n",
    "As you can see, robots publish many topics that could be interesting to see. \n",
    "Visualizing state of a sensor is a first step to programming using this sense or debugging if something goes wrong.\n",
    "\n",
    "We will start with visualizing the state of the turtlesim through some cool techniques."
   ]
  },
  {
   "cell_type": "code",
   "execution_count": 1,
   "metadata": {},
   "outputs": [
    {
     "name": "stdout",
     "output_type": "stream",
     "text": [
      "env: ROS_MASTER_URI=http://localhost:11311\n"
     ]
    }
   ],
   "source": [
    "%env ROS_MASTER_URI=http://localhost:11311\n",
    "import rospy\n",
    "import roslaunch\n",
    "import rosnode\n",
    "\n"
   ]
  },
  {
   "cell_type": "code",
   "execution_count": 2,
   "metadata": {
    "scrolled": false
   },
   "outputs": [
    {
     "data": {
      "text/plain": [
       "0"
      ]
     },
     "execution_count": 2,
     "metadata": {},
     "output_type": "execute_result"
    }
   ],
   "source": [
    "import os\n",
    "\n",
    "os.system(\"rosrun ipython_robot_prototyping roomba_simulator.py &\")\n",
    "os.system(\"rosrun turtlesim turtlesim_node &\")"
   ]
  },
  {
   "cell_type": "markdown",
   "metadata": {},
   "source": [
    "With the fallowing commands we have started two ROS Nodes -- one is a familiar turtlebot simulator and the other is a simple control node for the turtle that turns turtle around when she is near the wall so that it does not crash.\n",
    "\n",
    "\n",
    "What is also does is it calculates the distance of the turtle to the wall she is heading to.\n",
    "\n",
    "Lets see all the turtle's topics"
   ]
  },
  {
   "cell_type": "code",
   "execution_count": 14,
   "metadata": {},
   "outputs": [
    {
     "name": "stdout",
     "output_type": "stream",
     "text": [
      "(('/turtle1/distance', 'sensor_msgs/Range'), ('/turtle1/color_sensor', 'turtlesim/Color'), ('/turtle1/cmd_vel', 'geometry_msgs/Twist'), ('/turtle1/pose', 'turtlesim/Pose'))\n"
     ]
    }
   ],
   "source": [
    "turtle_topics= tuple((topic_name,topic_type) \n",
    "                     for topic_name, topic_type in rospy.get_published_topics()\n",
    "                     if \"turtle\" in topic_name)\n",
    "\n",
    "print(turtle_topics)"
   ]
  },
  {
   "cell_type": "markdown",
   "metadata": {},
   "source": [
    "There are couple of interesting topics there, like distance or pose. How we can visualise them?\n",
    "\n",
    "In case of turtlesim it is easy to see what the distance or position are by just looking at it. That is nice but in case of real robots we are not only interested in the actual position and orientation but also on robots _sensor_ readings that is, robots sensors. The distance in /turtle1/distance is something calculated, but does it actally make sense? It is very important to have a way to visualise sensor data and luckyly, there are many ways in ROS to do it:\n",
    "\n",
    " - The easiest way is to use _rostopic echo_ command. You just put, for example rostopic echo /turtle1/distance to see the distance values. Try to do it now.\n",
    " \n",
    " - The second option is to use another ROS command -- rqt_plot.\n"
   ]
  },
  {
   "cell_type": "code",
   "execution_count": 19,
   "metadata": {},
   "outputs": [
    {
     "data": {
      "text/plain": [
       "0"
      ]
     },
     "execution_count": 19,
     "metadata": {},
     "output_type": "execute_result"
    }
   ],
   "source": [
    "os.system(\"rqt_plot /turtle1/distance/range\")"
   ]
  },
  {
   "cell_type": "markdown",
   "metadata": {},
   "source": [
    "The command is nice as it automaticly scales a plot to fit the changing data. It also allows you to add different topics through graphical user interface or by putting different topic names when starting the tool( i.e. rqt_prot /turtle1/distance/range /turtle1/pose/x ). There is also a settings button in the right top corner to further set things up\n",
    "\n",
    " - It would be nice though to see the things directely in the Ipython notebook, to be able to see how the things change when we play around. We will show you couple of ways to do that"
   ]
  },
  {
   "cell_type": "markdown",
   "metadata": {},
   "source": [
    "### Ipython widgets"
   ]
  },
  {
   "cell_type": "markdown",
   "metadata": {
    "collapsed": true
   },
   "source": [
    "The first way, especially if there is a single changing value is to use IPython slider but as an output view.\n",
    "\n",
    "We will to this by using a _traitlet_ that is an element that, when changed, causes change in slider.\n",
    "\n"
   ]
  },
  {
   "cell_type": "code",
   "execution_count": 26,
   "metadata": {},
   "outputs": [],
   "source": [
    "from chatterbot import ChatBot\n",
    "chatbot = ChatBot(\"Ron Obvious\")\n",
    "\n",
    "from chatterbot.trainers import ListTrainer\n",
    "\n",
    "\n",
    "\n",
    "from gtts import gTTS\n",
    "\n",
    "\n",
    "conversation = [\n",
    "    \"Hello\",\n",
    "    \"Hi there!\",\n",
    "    \"How are you doing?\",\n",
    "    \"I'm doing great.\",\n",
    "    \"That is good to hear\",\n",
    "    \"Thank you.\",\n",
    "    \"You're welcome.\",\n",
    "    \"My name is Igor\",\n",
    "    \"and my name is Marcin\",\n",
    "    \"I am 8 years old\",\n",
    "    \"and I am a pedophile\",\n",
    "    \"I am 18 years old\",\n",
    "    \"I am not interested\"\n",
    "]\n",
    "\n",
    "\n",
    "chatbot.set_trainer(ListTrainer)\n",
    "chatbot.train(conversation)\n",
    "\n",
    "\n",
    "\n",
    "import os\n",
    "\n",
    "def gadaj(tekst):\n",
    "    tts = gTTS(text=str(tekst), lang='en', slow=True)\n",
    "    tts.save(\"gadaj.mp3\")\n",
    "    os.system(\"mpg123 gadaj.mp3\")\n",
    " \n",
    "\n"
   ]
  },
  {
   "cell_type": "code",
   "execution_count": 35,
   "metadata": {},
   "outputs": [],
   "source": [
    "response = chatbot.get_response(\"You are retard\")\n",
    "gadaj(response)"
   ]
  },
  {
   "cell_type": "code",
   "execution_count": null,
   "metadata": {
    "collapsed": true
   },
   "outputs": [],
   "source": [
    "tts."
   ]
  },
  {
   "cell_type": "code",
   "execution_count": 11,
   "metadata": {},
   "outputs": [
    {
     "name": "stdout",
     "output_type": "stream",
     "text": [
      "and my name is Marcin\n"
     ]
    }
   ],
   "source": [
    "print(chatbot.get_response(\"My name is Kutas\"))"
   ]
  },
  {
   "cell_type": "code",
   "execution_count": null,
   "metadata": {
    "collapsed": true
   },
   "outputs": [],
   "source": []
  }
 ],
 "metadata": {
  "kernelspec": {
   "display_name": "Python 3",
   "language": "python",
   "name": "python3"
  },
  "language_info": {
   "codemirror_mode": {
    "name": "ipython",
    "version": 3
   },
   "file_extension": ".py",
   "mimetype": "text/x-python",
   "name": "python",
   "nbconvert_exporter": "python",
   "pygments_lexer": "ipython3",
   "version": "3.4.3"
  }
 },
 "nbformat": 4,
 "nbformat_minor": 2
}
