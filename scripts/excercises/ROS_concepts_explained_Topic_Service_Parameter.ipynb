{
 "cells": [
  {
   "cell_type": "markdown",
   "metadata": {},
   "source": [
    "## ROS concepts explained Topic, Service, Parameter\n",
    "\n",
    "Topic, Service, and Parameter are the main parts of ROS. Each simplifies some particular type of communication inside ROS so that your robots can do stuff efficiently.\n",
    "\n",
    "In short:\n",
    "**Topic** is used when we don't care who writes the message and who reads the message as long as it is on the right topic and of the right format (i.e. \"What is the **temperature** outside?\" - someone asks. \"It is 5 **degrees Celcius**\" answers someone) \n",
    "\n",
    "**Service** is a different format, where we ask for some calculation or action and receive response **in return**.\n",
    "I.e. (I ask \"how do you do, robot?\", and I receive \"fine, thank you\").\n",
    "Both command and response need to be in a format that we agreed upon. Also, there can be only one agent (i.e. one robot) with a particular service. \n",
    "\n",
    "**Parameter** is a common database of parameters that can be read or written by ROS nodes (programms). Such parameters may be the hardware configuration, robot description or some other settings. Usually, they are read by a node when initializing (starting)."
   ]
  },
  {
   "cell_type": "code",
   "execution_count": 3,
   "metadata": {},
   "outputs": [
    {
     "name": "stdout",
     "output_type": "stream",
     "text": [
      "env: ROS_MASTER_URI=http://igor-laptop-linux:11311\n"
     ]
    }
   ],
   "source": [
    "### we will again connect to the main server\n",
    "\n",
    "%env ROS_MASTER_URI=http://igor-laptop-linux:11311\n",
    "import rospy"
   ]
  },
  {
   "cell_type": "markdown",
   "metadata": {},
   "source": [
    "### ROS Topic\n",
    "\n",
    "Let's start from *ROS Topic*. You have used this protocol to read secret Ono message. **rostopic** program was smart enough to read this message automatically but normally we need to know what **message type** the topic has to read it. This is because the messages can be very different and actually have a whole structure inside. \n",
    "The message is **serialized** (coded) before being sent by **publisher** and then **deserialized** (decoded) by **subscriber**. The whole process is done automatically but we need to know the message type.\n",
    "\n",
    "### Exercise: \n",
    "*Let's look again at the topics that are there. In the field below get the list of the topics with their message types in format [[topic_name,message_type],[... ]].*"
   ]
  },
  {
   "cell_type": "code",
   "execution_count": 2,
   "metadata": {
    "scrolled": true
   },
   "outputs": [
    {
     "ename": "gaierror",
     "evalue": "[Errno -5] No address associated with hostname",
     "output_type": "error",
     "traceback": [
      "\u001b[0;31m---------------------------------------------------------------------------\u001b[0m",
      "\u001b[0;31mgaierror\u001b[0m                                  Traceback (most recent call last)",
      "\u001b[0;32m<ipython-input-2-67e0511ec84a>\u001b[0m in \u001b[0;36m<module>\u001b[0;34m()\u001b[0m\n\u001b[0;32m----> 1\u001b[0;31m \u001b[0mtopics\u001b[0m \u001b[0;34m=\u001b[0m \u001b[0mrospy\u001b[0m\u001b[0;34m.\u001b[0m\u001b[0mget_published_topics\u001b[0m\u001b[0;34m(\u001b[0m\u001b[0;34m)\u001b[0m \u001b[0;31m# read the topics here\u001b[0m\u001b[0;34m\u001b[0m\u001b[0m\n\u001b[0m\u001b[1;32m      2\u001b[0m \u001b[0mprint\u001b[0m\u001b[0;34m(\u001b[0m\u001b[0mtopics\u001b[0m\u001b[0;34m)\u001b[0m\u001b[0;34m\u001b[0m\u001b[0m\n",
      "\u001b[0;32m/opt/ros/kinetic/lib/python2.7/dist-packages/rospy/client.py\u001b[0m in \u001b[0;36mget_published_topics\u001b[0;34m(namespace)\u001b[0m\n\u001b[1;32m    377\u001b[0m     \u001b[0;34m@\u001b[0m\u001b[0mrtype\u001b[0m\u001b[0;34m:\u001b[0m \u001b[0;34m[\u001b[0m\u001b[0;34m[\u001b[0m\u001b[0mstr\u001b[0m\u001b[0;34m,\u001b[0m \u001b[0mstr\u001b[0m\u001b[0;34m]\u001b[0m\u001b[0;34m]\u001b[0m\u001b[0;34m\u001b[0m\u001b[0m\n\u001b[1;32m    378\u001b[0m     \"\"\"\n\u001b[0;32m--> 379\u001b[0;31m     \u001b[0mcode\u001b[0m\u001b[0;34m,\u001b[0m \u001b[0mmsg\u001b[0m\u001b[0;34m,\u001b[0m \u001b[0mval\u001b[0m \u001b[0;34m=\u001b[0m \u001b[0mget_master\u001b[0m\u001b[0;34m(\u001b[0m\u001b[0;34m)\u001b[0m\u001b[0;34m.\u001b[0m\u001b[0mgetPublishedTopics\u001b[0m\u001b[0;34m(\u001b[0m\u001b[0mnamespace\u001b[0m\u001b[0;34m)\u001b[0m\u001b[0;34m\u001b[0m\u001b[0m\n\u001b[0m\u001b[1;32m    380\u001b[0m     \u001b[0;32mif\u001b[0m \u001b[0mcode\u001b[0m \u001b[0;34m!=\u001b[0m \u001b[0;36m1\u001b[0m\u001b[0;34m:\u001b[0m\u001b[0;34m\u001b[0m\u001b[0m\n\u001b[1;32m    381\u001b[0m         \u001b[0;32mraise\u001b[0m \u001b[0mrospy\u001b[0m\u001b[0;34m.\u001b[0m\u001b[0mexceptions\u001b[0m\u001b[0;34m.\u001b[0m\u001b[0mROSException\u001b[0m\u001b[0;34m(\u001b[0m\u001b[0;34m\"unable to get published topics: %s\"\u001b[0m\u001b[0;34m%\u001b[0m\u001b[0mmsg\u001b[0m\u001b[0;34m)\u001b[0m\u001b[0;34m\u001b[0m\u001b[0m\n",
      "\u001b[0;32m/opt/ros/kinetic/lib/python2.7/dist-packages/rospy/msproxy.py\u001b[0m in \u001b[0;36mwrappedF\u001b[0;34m(*args, **kwds)\u001b[0m\n\u001b[1;32m    104\u001b[0m             \u001b[0;32mwith\u001b[0m \u001b[0mself\u001b[0m\u001b[0;34m.\u001b[0m\u001b[0m_lock\u001b[0m\u001b[0;34m:\u001b[0m\u001b[0;34m\u001b[0m\u001b[0m\n\u001b[1;32m    105\u001b[0m                 \u001b[0mf\u001b[0m \u001b[0;34m=\u001b[0m \u001b[0mgetattr\u001b[0m\u001b[0;34m(\u001b[0m\u001b[0mself\u001b[0m\u001b[0;34m.\u001b[0m\u001b[0mtarget\u001b[0m\u001b[0;34m,\u001b[0m \u001b[0mkey\u001b[0m\u001b[0;34m)\u001b[0m\u001b[0;34m\u001b[0m\u001b[0m\n\u001b[0;32m--> 106\u001b[0;31m                 \u001b[0;32mreturn\u001b[0m \u001b[0mf\u001b[0m\u001b[0;34m(\u001b[0m\u001b[0;34m*\u001b[0m\u001b[0margs\u001b[0m\u001b[0;34m,\u001b[0m \u001b[0;34m**\u001b[0m\u001b[0mkwds\u001b[0m\u001b[0;34m)\u001b[0m\u001b[0;34m\u001b[0m\u001b[0m\n\u001b[0m\u001b[1;32m    107\u001b[0m         \u001b[0;32mreturn\u001b[0m \u001b[0mwrappedF\u001b[0m\u001b[0;34m\u001b[0m\u001b[0m\n\u001b[1;32m    108\u001b[0m \u001b[0;34m\u001b[0m\u001b[0m\n",
      "\u001b[0;32m/usr/lib/python3.5/xmlrpc/client.py\u001b[0m in \u001b[0;36m__call__\u001b[0;34m(self, *args)\u001b[0m\n\u001b[1;32m   1090\u001b[0m         \u001b[0;32mreturn\u001b[0m \u001b[0m_Method\u001b[0m\u001b[0;34m(\u001b[0m\u001b[0mself\u001b[0m\u001b[0;34m.\u001b[0m\u001b[0m__send\u001b[0m\u001b[0;34m,\u001b[0m \u001b[0;34m\"%s.%s\"\u001b[0m \u001b[0;34m%\u001b[0m \u001b[0;34m(\u001b[0m\u001b[0mself\u001b[0m\u001b[0;34m.\u001b[0m\u001b[0m__name\u001b[0m\u001b[0;34m,\u001b[0m \u001b[0mname\u001b[0m\u001b[0;34m)\u001b[0m\u001b[0;34m)\u001b[0m\u001b[0;34m\u001b[0m\u001b[0m\n\u001b[1;32m   1091\u001b[0m     \u001b[0;32mdef\u001b[0m \u001b[0m__call__\u001b[0m\u001b[0;34m(\u001b[0m\u001b[0mself\u001b[0m\u001b[0;34m,\u001b[0m \u001b[0;34m*\u001b[0m\u001b[0margs\u001b[0m\u001b[0;34m)\u001b[0m\u001b[0;34m:\u001b[0m\u001b[0;34m\u001b[0m\u001b[0m\n\u001b[0;32m-> 1092\u001b[0;31m         \u001b[0;32mreturn\u001b[0m \u001b[0mself\u001b[0m\u001b[0;34m.\u001b[0m\u001b[0m__send\u001b[0m\u001b[0;34m(\u001b[0m\u001b[0mself\u001b[0m\u001b[0;34m.\u001b[0m\u001b[0m__name\u001b[0m\u001b[0;34m,\u001b[0m \u001b[0margs\u001b[0m\u001b[0;34m)\u001b[0m\u001b[0;34m\u001b[0m\u001b[0m\n\u001b[0m\u001b[1;32m   1093\u001b[0m \u001b[0;34m\u001b[0m\u001b[0m\n\u001b[1;32m   1094\u001b[0m \u001b[0;31m##\u001b[0m\u001b[0;34m\u001b[0m\u001b[0;34m\u001b[0m\u001b[0m\n",
      "\u001b[0;32m/usr/lib/python3.5/xmlrpc/client.py\u001b[0m in \u001b[0;36m__request\u001b[0;34m(self, methodname, params)\u001b[0m\n\u001b[1;32m   1430\u001b[0m             \u001b[0mself\u001b[0m\u001b[0;34m.\u001b[0m\u001b[0m__handler\u001b[0m\u001b[0;34m,\u001b[0m\u001b[0;34m\u001b[0m\u001b[0m\n\u001b[1;32m   1431\u001b[0m             \u001b[0mrequest\u001b[0m\u001b[0;34m,\u001b[0m\u001b[0;34m\u001b[0m\u001b[0m\n\u001b[0;32m-> 1432\u001b[0;31m             \u001b[0mverbose\u001b[0m\u001b[0;34m=\u001b[0m\u001b[0mself\u001b[0m\u001b[0;34m.\u001b[0m\u001b[0m__verbose\u001b[0m\u001b[0;34m\u001b[0m\u001b[0m\n\u001b[0m\u001b[1;32m   1433\u001b[0m             )\n\u001b[1;32m   1434\u001b[0m \u001b[0;34m\u001b[0m\u001b[0m\n",
      "\u001b[0;32m/usr/lib/python3.5/xmlrpc/client.py\u001b[0m in \u001b[0;36mrequest\u001b[0;34m(self, host, handler, request_body, verbose)\u001b[0m\n\u001b[1;32m   1132\u001b[0m         \u001b[0;32mfor\u001b[0m \u001b[0mi\u001b[0m \u001b[0;32min\u001b[0m \u001b[0;34m(\u001b[0m\u001b[0;36m0\u001b[0m\u001b[0;34m,\u001b[0m \u001b[0;36m1\u001b[0m\u001b[0;34m)\u001b[0m\u001b[0;34m:\u001b[0m\u001b[0;34m\u001b[0m\u001b[0m\n\u001b[1;32m   1133\u001b[0m             \u001b[0;32mtry\u001b[0m\u001b[0;34m:\u001b[0m\u001b[0;34m\u001b[0m\u001b[0m\n\u001b[0;32m-> 1134\u001b[0;31m                 \u001b[0;32mreturn\u001b[0m \u001b[0mself\u001b[0m\u001b[0;34m.\u001b[0m\u001b[0msingle_request\u001b[0m\u001b[0;34m(\u001b[0m\u001b[0mhost\u001b[0m\u001b[0;34m,\u001b[0m \u001b[0mhandler\u001b[0m\u001b[0;34m,\u001b[0m \u001b[0mrequest_body\u001b[0m\u001b[0;34m,\u001b[0m \u001b[0mverbose\u001b[0m\u001b[0;34m)\u001b[0m\u001b[0;34m\u001b[0m\u001b[0m\n\u001b[0m\u001b[1;32m   1135\u001b[0m             \u001b[0;32mexcept\u001b[0m \u001b[0mhttp\u001b[0m\u001b[0;34m.\u001b[0m\u001b[0mclient\u001b[0m\u001b[0;34m.\u001b[0m\u001b[0mRemoteDisconnected\u001b[0m\u001b[0;34m:\u001b[0m\u001b[0;34m\u001b[0m\u001b[0m\n\u001b[1;32m   1136\u001b[0m                 \u001b[0;32mif\u001b[0m \u001b[0mi\u001b[0m\u001b[0;34m:\u001b[0m\u001b[0;34m\u001b[0m\u001b[0m\n",
      "\u001b[0;32m/usr/lib/python3.5/xmlrpc/client.py\u001b[0m in \u001b[0;36msingle_request\u001b[0;34m(self, host, handler, request_body, verbose)\u001b[0m\n\u001b[1;32m   1144\u001b[0m         \u001b[0;31m# issue XML-RPC request\u001b[0m\u001b[0;34m\u001b[0m\u001b[0;34m\u001b[0m\u001b[0m\n\u001b[1;32m   1145\u001b[0m         \u001b[0;32mtry\u001b[0m\u001b[0;34m:\u001b[0m\u001b[0;34m\u001b[0m\u001b[0m\n\u001b[0;32m-> 1146\u001b[0;31m             \u001b[0mhttp_conn\u001b[0m \u001b[0;34m=\u001b[0m \u001b[0mself\u001b[0m\u001b[0;34m.\u001b[0m\u001b[0msend_request\u001b[0m\u001b[0;34m(\u001b[0m\u001b[0mhost\u001b[0m\u001b[0;34m,\u001b[0m \u001b[0mhandler\u001b[0m\u001b[0;34m,\u001b[0m \u001b[0mrequest_body\u001b[0m\u001b[0;34m,\u001b[0m \u001b[0mverbose\u001b[0m\u001b[0;34m)\u001b[0m\u001b[0;34m\u001b[0m\u001b[0m\n\u001b[0m\u001b[1;32m   1147\u001b[0m             \u001b[0mresp\u001b[0m \u001b[0;34m=\u001b[0m \u001b[0mhttp_conn\u001b[0m\u001b[0;34m.\u001b[0m\u001b[0mgetresponse\u001b[0m\u001b[0;34m(\u001b[0m\u001b[0;34m)\u001b[0m\u001b[0;34m\u001b[0m\u001b[0m\n\u001b[1;32m   1148\u001b[0m             \u001b[0;32mif\u001b[0m \u001b[0mresp\u001b[0m\u001b[0;34m.\u001b[0m\u001b[0mstatus\u001b[0m \u001b[0;34m==\u001b[0m \u001b[0;36m200\u001b[0m\u001b[0;34m:\u001b[0m\u001b[0;34m\u001b[0m\u001b[0m\n",
      "\u001b[0;32m/usr/lib/python3.5/xmlrpc/client.py\u001b[0m in \u001b[0;36msend_request\u001b[0;34m(self, host, handler, request_body, debug)\u001b[0m\n\u001b[1;32m   1257\u001b[0m         \u001b[0mheaders\u001b[0m\u001b[0;34m.\u001b[0m\u001b[0mappend\u001b[0m\u001b[0;34m(\u001b[0m\u001b[0;34m(\u001b[0m\u001b[0;34m\"User-Agent\"\u001b[0m\u001b[0;34m,\u001b[0m \u001b[0mself\u001b[0m\u001b[0;34m.\u001b[0m\u001b[0muser_agent\u001b[0m\u001b[0;34m)\u001b[0m\u001b[0;34m)\u001b[0m\u001b[0;34m\u001b[0m\u001b[0m\n\u001b[1;32m   1258\u001b[0m         \u001b[0mself\u001b[0m\u001b[0;34m.\u001b[0m\u001b[0msend_headers\u001b[0m\u001b[0;34m(\u001b[0m\u001b[0mconnection\u001b[0m\u001b[0;34m,\u001b[0m \u001b[0mheaders\u001b[0m\u001b[0;34m)\u001b[0m\u001b[0;34m\u001b[0m\u001b[0m\n\u001b[0;32m-> 1259\u001b[0;31m         \u001b[0mself\u001b[0m\u001b[0;34m.\u001b[0m\u001b[0msend_content\u001b[0m\u001b[0;34m(\u001b[0m\u001b[0mconnection\u001b[0m\u001b[0;34m,\u001b[0m \u001b[0mrequest_body\u001b[0m\u001b[0;34m)\u001b[0m\u001b[0;34m\u001b[0m\u001b[0m\n\u001b[0m\u001b[1;32m   1260\u001b[0m         \u001b[0;32mreturn\u001b[0m \u001b[0mconnection\u001b[0m\u001b[0;34m\u001b[0m\u001b[0m\n\u001b[1;32m   1261\u001b[0m \u001b[0;34m\u001b[0m\u001b[0m\n",
      "\u001b[0;32m/usr/lib/python3.5/xmlrpc/client.py\u001b[0m in \u001b[0;36msend_content\u001b[0;34m(self, connection, request_body)\u001b[0m\n\u001b[1;32m   1287\u001b[0m \u001b[0;34m\u001b[0m\u001b[0m\n\u001b[1;32m   1288\u001b[0m         \u001b[0mconnection\u001b[0m\u001b[0;34m.\u001b[0m\u001b[0mputheader\u001b[0m\u001b[0;34m(\u001b[0m\u001b[0;34m\"Content-Length\"\u001b[0m\u001b[0;34m,\u001b[0m \u001b[0mstr\u001b[0m\u001b[0;34m(\u001b[0m\u001b[0mlen\u001b[0m\u001b[0;34m(\u001b[0m\u001b[0mrequest_body\u001b[0m\u001b[0;34m)\u001b[0m\u001b[0;34m)\u001b[0m\u001b[0;34m)\u001b[0m\u001b[0;34m\u001b[0m\u001b[0m\n\u001b[0;32m-> 1289\u001b[0;31m         \u001b[0mconnection\u001b[0m\u001b[0;34m.\u001b[0m\u001b[0mendheaders\u001b[0m\u001b[0;34m(\u001b[0m\u001b[0mrequest_body\u001b[0m\u001b[0;34m)\u001b[0m\u001b[0;34m\u001b[0m\u001b[0m\n\u001b[0m\u001b[1;32m   1290\u001b[0m \u001b[0;34m\u001b[0m\u001b[0m\n\u001b[1;32m   1291\u001b[0m     \u001b[0;31m##\u001b[0m\u001b[0;34m\u001b[0m\u001b[0;34m\u001b[0m\u001b[0m\n",
      "\u001b[0;32m/usr/lib/python3.5/http/client.py\u001b[0m in \u001b[0;36mendheaders\u001b[0;34m(self, message_body)\u001b[0m\n\u001b[1;32m   1100\u001b[0m         \u001b[0;32melse\u001b[0m\u001b[0;34m:\u001b[0m\u001b[0;34m\u001b[0m\u001b[0m\n\u001b[1;32m   1101\u001b[0m             \u001b[0;32mraise\u001b[0m \u001b[0mCannotSendHeader\u001b[0m\u001b[0;34m(\u001b[0m\u001b[0;34m)\u001b[0m\u001b[0;34m\u001b[0m\u001b[0m\n\u001b[0;32m-> 1102\u001b[0;31m         \u001b[0mself\u001b[0m\u001b[0;34m.\u001b[0m\u001b[0m_send_output\u001b[0m\u001b[0;34m(\u001b[0m\u001b[0mmessage_body\u001b[0m\u001b[0;34m)\u001b[0m\u001b[0;34m\u001b[0m\u001b[0m\n\u001b[0m\u001b[1;32m   1103\u001b[0m \u001b[0;34m\u001b[0m\u001b[0m\n\u001b[1;32m   1104\u001b[0m     \u001b[0;32mdef\u001b[0m \u001b[0mrequest\u001b[0m\u001b[0;34m(\u001b[0m\u001b[0mself\u001b[0m\u001b[0;34m,\u001b[0m \u001b[0mmethod\u001b[0m\u001b[0;34m,\u001b[0m \u001b[0murl\u001b[0m\u001b[0;34m,\u001b[0m \u001b[0mbody\u001b[0m\u001b[0;34m=\u001b[0m\u001b[0;32mNone\u001b[0m\u001b[0;34m,\u001b[0m \u001b[0mheaders\u001b[0m\u001b[0;34m=\u001b[0m\u001b[0;34m{\u001b[0m\u001b[0;34m}\u001b[0m\u001b[0;34m)\u001b[0m\u001b[0;34m:\u001b[0m\u001b[0;34m\u001b[0m\u001b[0m\n",
      "\u001b[0;32m/usr/lib/python3.5/http/client.py\u001b[0m in \u001b[0;36m_send_output\u001b[0;34m(self, message_body)\u001b[0m\n\u001b[1;32m    932\u001b[0m         \u001b[0;32mdel\u001b[0m \u001b[0mself\u001b[0m\u001b[0;34m.\u001b[0m\u001b[0m_buffer\u001b[0m\u001b[0;34m[\u001b[0m\u001b[0;34m:\u001b[0m\u001b[0;34m]\u001b[0m\u001b[0;34m\u001b[0m\u001b[0m\n\u001b[1;32m    933\u001b[0m \u001b[0;34m\u001b[0m\u001b[0m\n\u001b[0;32m--> 934\u001b[0;31m         \u001b[0mself\u001b[0m\u001b[0;34m.\u001b[0m\u001b[0msend\u001b[0m\u001b[0;34m(\u001b[0m\u001b[0mmsg\u001b[0m\u001b[0;34m)\u001b[0m\u001b[0;34m\u001b[0m\u001b[0m\n\u001b[0m\u001b[1;32m    935\u001b[0m         \u001b[0;32mif\u001b[0m \u001b[0mmessage_body\u001b[0m \u001b[0;32mis\u001b[0m \u001b[0;32mnot\u001b[0m \u001b[0;32mNone\u001b[0m\u001b[0;34m:\u001b[0m\u001b[0;34m\u001b[0m\u001b[0m\n\u001b[1;32m    936\u001b[0m             \u001b[0mself\u001b[0m\u001b[0;34m.\u001b[0m\u001b[0msend\u001b[0m\u001b[0;34m(\u001b[0m\u001b[0mmessage_body\u001b[0m\u001b[0;34m)\u001b[0m\u001b[0;34m\u001b[0m\u001b[0m\n",
      "\u001b[0;32m/usr/lib/python3.5/http/client.py\u001b[0m in \u001b[0;36msend\u001b[0;34m(self, data)\u001b[0m\n\u001b[1;32m    875\u001b[0m         \u001b[0;32mif\u001b[0m \u001b[0mself\u001b[0m\u001b[0;34m.\u001b[0m\u001b[0msock\u001b[0m \u001b[0;32mis\u001b[0m \u001b[0;32mNone\u001b[0m\u001b[0;34m:\u001b[0m\u001b[0;34m\u001b[0m\u001b[0m\n\u001b[1;32m    876\u001b[0m             \u001b[0;32mif\u001b[0m \u001b[0mself\u001b[0m\u001b[0;34m.\u001b[0m\u001b[0mauto_open\u001b[0m\u001b[0;34m:\u001b[0m\u001b[0;34m\u001b[0m\u001b[0m\n\u001b[0;32m--> 877\u001b[0;31m                 \u001b[0mself\u001b[0m\u001b[0;34m.\u001b[0m\u001b[0mconnect\u001b[0m\u001b[0;34m(\u001b[0m\u001b[0;34m)\u001b[0m\u001b[0;34m\u001b[0m\u001b[0m\n\u001b[0m\u001b[1;32m    878\u001b[0m             \u001b[0;32melse\u001b[0m\u001b[0;34m:\u001b[0m\u001b[0;34m\u001b[0m\u001b[0m\n\u001b[1;32m    879\u001b[0m                 \u001b[0;32mraise\u001b[0m \u001b[0mNotConnected\u001b[0m\u001b[0;34m(\u001b[0m\u001b[0;34m)\u001b[0m\u001b[0;34m\u001b[0m\u001b[0m\n",
      "\u001b[0;32m/usr/lib/python3.5/http/client.py\u001b[0m in \u001b[0;36mconnect\u001b[0;34m(self)\u001b[0m\n\u001b[1;32m    847\u001b[0m         \u001b[0;34m\"\"\"Connect to the host and port specified in __init__.\"\"\"\u001b[0m\u001b[0;34m\u001b[0m\u001b[0m\n\u001b[1;32m    848\u001b[0m         self.sock = self._create_connection(\n\u001b[0;32m--> 849\u001b[0;31m             (self.host,self.port), self.timeout, self.source_address)\n\u001b[0m\u001b[1;32m    850\u001b[0m         \u001b[0mself\u001b[0m\u001b[0;34m.\u001b[0m\u001b[0msock\u001b[0m\u001b[0;34m.\u001b[0m\u001b[0msetsockopt\u001b[0m\u001b[0;34m(\u001b[0m\u001b[0msocket\u001b[0m\u001b[0;34m.\u001b[0m\u001b[0mIPPROTO_TCP\u001b[0m\u001b[0;34m,\u001b[0m \u001b[0msocket\u001b[0m\u001b[0;34m.\u001b[0m\u001b[0mTCP_NODELAY\u001b[0m\u001b[0;34m,\u001b[0m \u001b[0;36m1\u001b[0m\u001b[0;34m)\u001b[0m\u001b[0;34m\u001b[0m\u001b[0m\n\u001b[1;32m    851\u001b[0m \u001b[0;34m\u001b[0m\u001b[0m\n",
      "\u001b[0;32m/usr/lib/python3.5/socket.py\u001b[0m in \u001b[0;36mcreate_connection\u001b[0;34m(address, timeout, source_address)\u001b[0m\n\u001b[1;32m    691\u001b[0m     \u001b[0mhost\u001b[0m\u001b[0;34m,\u001b[0m \u001b[0mport\u001b[0m \u001b[0;34m=\u001b[0m \u001b[0maddress\u001b[0m\u001b[0;34m\u001b[0m\u001b[0m\n\u001b[1;32m    692\u001b[0m     \u001b[0merr\u001b[0m \u001b[0;34m=\u001b[0m \u001b[0;32mNone\u001b[0m\u001b[0;34m\u001b[0m\u001b[0m\n\u001b[0;32m--> 693\u001b[0;31m     \u001b[0;32mfor\u001b[0m \u001b[0mres\u001b[0m \u001b[0;32min\u001b[0m \u001b[0mgetaddrinfo\u001b[0m\u001b[0;34m(\u001b[0m\u001b[0mhost\u001b[0m\u001b[0;34m,\u001b[0m \u001b[0mport\u001b[0m\u001b[0;34m,\u001b[0m \u001b[0;36m0\u001b[0m\u001b[0;34m,\u001b[0m \u001b[0mSOCK_STREAM\u001b[0m\u001b[0;34m)\u001b[0m\u001b[0;34m:\u001b[0m\u001b[0;34m\u001b[0m\u001b[0m\n\u001b[0m\u001b[1;32m    694\u001b[0m         \u001b[0maf\u001b[0m\u001b[0;34m,\u001b[0m \u001b[0msocktype\u001b[0m\u001b[0;34m,\u001b[0m \u001b[0mproto\u001b[0m\u001b[0;34m,\u001b[0m \u001b[0mcanonname\u001b[0m\u001b[0;34m,\u001b[0m \u001b[0msa\u001b[0m \u001b[0;34m=\u001b[0m \u001b[0mres\u001b[0m\u001b[0;34m\u001b[0m\u001b[0m\n\u001b[1;32m    695\u001b[0m         \u001b[0msock\u001b[0m \u001b[0;34m=\u001b[0m \u001b[0;32mNone\u001b[0m\u001b[0;34m\u001b[0m\u001b[0m\n",
      "\u001b[0;32m/usr/lib/python3.5/socket.py\u001b[0m in \u001b[0;36mgetaddrinfo\u001b[0;34m(host, port, family, type, proto, flags)\u001b[0m\n\u001b[1;32m    730\u001b[0m     \u001b[0;31m# and socket type values to enum constants.\u001b[0m\u001b[0;34m\u001b[0m\u001b[0;34m\u001b[0m\u001b[0m\n\u001b[1;32m    731\u001b[0m     \u001b[0maddrlist\u001b[0m \u001b[0;34m=\u001b[0m \u001b[0;34m[\u001b[0m\u001b[0;34m]\u001b[0m\u001b[0;34m\u001b[0m\u001b[0m\n\u001b[0;32m--> 732\u001b[0;31m     \u001b[0;32mfor\u001b[0m \u001b[0mres\u001b[0m \u001b[0;32min\u001b[0m \u001b[0m_socket\u001b[0m\u001b[0;34m.\u001b[0m\u001b[0mgetaddrinfo\u001b[0m\u001b[0;34m(\u001b[0m\u001b[0mhost\u001b[0m\u001b[0;34m,\u001b[0m \u001b[0mport\u001b[0m\u001b[0;34m,\u001b[0m \u001b[0mfamily\u001b[0m\u001b[0;34m,\u001b[0m \u001b[0mtype\u001b[0m\u001b[0;34m,\u001b[0m \u001b[0mproto\u001b[0m\u001b[0;34m,\u001b[0m \u001b[0mflags\u001b[0m\u001b[0;34m)\u001b[0m\u001b[0;34m:\u001b[0m\u001b[0;34m\u001b[0m\u001b[0m\n\u001b[0m\u001b[1;32m    733\u001b[0m         \u001b[0maf\u001b[0m\u001b[0;34m,\u001b[0m \u001b[0msocktype\u001b[0m\u001b[0;34m,\u001b[0m \u001b[0mproto\u001b[0m\u001b[0;34m,\u001b[0m \u001b[0mcanonname\u001b[0m\u001b[0;34m,\u001b[0m \u001b[0msa\u001b[0m \u001b[0;34m=\u001b[0m \u001b[0mres\u001b[0m\u001b[0;34m\u001b[0m\u001b[0m\n\u001b[1;32m    734\u001b[0m         addrlist.append((_intenum_converter(af, AddressFamily),\n",
      "\u001b[0;31mgaierror\u001b[0m: [Errno -5] No address associated with hostname"
     ]
    }
   ],
   "source": [
    "topics = rospy.get_published_topics() # read the topics here\n",
    "print(topics)"
   ]
  },
  {
   "cell_type": "markdown",
   "metadata": {},
   "source": [
    "*HINT:*\n",
    "    You can find the function for finding published *topics* in the previous chapter: [setting_up_and_running_your_first_ROS_Node.ipynb](setting_up_and_running_your_first_ROS_Node.ipynb) "
   ]
  },
  {
   "cell_type": "markdown",
   "metadata": {},
   "source": [
    "You can see that there is topic called '/Ono/joint_state'. Let's read its  message stream using **rostopic** tool.\n",
    "\n",
    "### Exercise:\n",
    "\n",
    "*Read **Ono/joint_state** topic, using rostopic echo command, interupt kernel when fininshed*\n"
   ]
  },
  {
   "cell_type": "code",
   "execution_count": 3,
   "metadata": {
    "scrolled": false
   },
   "outputs": [
    {
     "name": "stdout",
     "output_type": "stream",
     "text": [
      "header: \n",
      "  seq: 1\n",
      "  stamp: \n",
      "    secs: 0\n",
      "    nsecs:         0\n",
      "  frame_id: ''\n",
      "name: ['eye', 'eye_lid', 'hand', 'right_leg', 'left_leg']\n",
      "position: [2.5232882751936936, 8.203797781022965, 2.8160240350570707, 0.9917657422693971, 2.2916228094909985]\n",
      "velocity: []\n",
      "effort: []\n",
      "---\n",
      "header: \n",
      "  seq: 2\n",
      "  stamp: \n",
      "    secs: 0\n",
      "    nsecs:         0\n",
      "  frame_id: ''\n",
      "name: ['eye', 'eye_lid', 'hand', 'right_leg', 'left_leg']\n",
      "position: [7.626514390093025, 7.7912285932074745, 3.96186837417146, 6.303211402643686, 6.515375269864881]\n",
      "velocity: []\n",
      "effort: []\n",
      "---\n",
      "header: \n",
      "  seq: 3\n",
      "  stamp: \n",
      "    secs: 0\n",
      "    nsecs:         0\n",
      "  frame_id: ''\n",
      "name: ['eye', 'eye_lid', 'hand', 'right_leg', 'left_leg']\n",
      "position: [0.5592027248691445, 9.750457531620984, 8.996208664380724, 2.784024007675028, 0.3917081192897298]\n",
      "velocity: []\n",
      "effort: []\n",
      "---\n",
      "header: \n",
      "  seq: 4\n",
      "  stamp: \n",
      "    secs: 0\n",
      "    nsecs:         0\n",
      "  frame_id: ''\n",
      "name: ['eye', 'eye_lid', 'hand', 'right_leg', 'left_leg']\n",
      "position: [5.4276012110356175, 8.701349860478288, 4.233436982428645, 4.814186013844864, 6.618737354637477]\n",
      "velocity: []\n",
      "effort: []\n",
      "---\n",
      "header: \n",
      "  seq: 5\n",
      "  stamp: \n",
      "    secs: 0\n",
      "    nsecs:         0\n",
      "  frame_id: ''\n",
      "name: ['eye', 'eye_lid', 'hand', 'right_leg', 'left_leg']\n",
      "position: [6.41930419832382, 2.310091614370069, 8.970930789059956, 6.170648365304048, 0.7845793693269032]\n",
      "velocity: []\n",
      "effort: []\n",
      "---\n",
      "header: \n",
      "  seq: 6\n",
      "  stamp: \n",
      "    secs: 0\n",
      "    nsecs:         0\n",
      "  frame_id: ''\n",
      "name: ['eye', 'eye_lid', 'hand', 'right_leg', 'left_leg']\n",
      "position: [4.508816720005969, 6.736780925603848, 6.228794592419906, 0.539469808820614, 6.119403654545773]\n",
      "velocity: []\n",
      "effort: []\n",
      "---\n",
      "header: \n",
      "  seq: 7\n",
      "  stamp: \n",
      "    secs: 0\n",
      "    nsecs:         0\n",
      "  frame_id: ''\n",
      "name: ['eye', 'eye_lid', 'hand', 'right_leg', 'left_leg']\n",
      "position: [5.359755322541247, 6.150331435720771, 5.75056507578913, 9.0516791843229, 0.2599454332999551]\n",
      "velocity: []\n",
      "effort: []\n",
      "---\n",
      "header: \n",
      "  seq: 8\n",
      "  stamp: \n",
      "    secs: 0\n",
      "    nsecs:         0\n",
      "  frame_id: ''\n",
      "name: ['eye', 'eye_lid', 'hand', 'right_leg', 'left_leg']\n",
      "position: [0.4157474287823515, 7.266978804661781, 3.247905933651202, 3.437655001067644, 4.962396377125957]\n",
      "velocity: []\n",
      "effort: []\n",
      "---\n",
      "header: \n",
      "  seq: 9\n",
      "  stamp: \n",
      "    secs: 0\n",
      "    nsecs:         0\n",
      "  frame_id: ''\n",
      "name: ['eye', 'eye_lid', 'hand', 'right_leg', 'left_leg']\n",
      "position: [0.9411151523468242, 2.5569428152073117, 8.123193793339249, 3.6004736988186528, 6.301257962766526]\n",
      "velocity: []\n",
      "effort: []\n",
      "---\n",
      "header: \n",
      "  seq: 10\n",
      "  stamp: \n",
      "    secs: 0\n",
      "    nsecs:         0\n",
      "  frame_id: ''\n",
      "name: ['eye', 'eye_lid', 'hand', 'right_leg', 'left_leg']\n",
      "position: [6.878683932779812, 1.0024203714401925, 1.7770564316900495, 9.738858482292395, 5.920954544957487]\n",
      "velocity: []\n",
      "effort: []\n",
      "---\n",
      "header: \n",
      "  seq: 11\n",
      "  stamp: \n",
      "    secs: 0\n",
      "    nsecs:         0\n",
      "  frame_id: ''\n",
      "name: ['eye', 'eye_lid', 'hand', 'right_leg', 'left_leg']\n",
      "position: [2.3580896472262447, 3.742147271987639, 2.228142930670348, 3.0468594894565992, 2.3514036203028086]\n",
      "velocity: []\n",
      "effort: []\n",
      "---\n",
      "header: \n",
      "  seq: 12\n",
      "  stamp: \n",
      "    secs: 0\n",
      "    nsecs:         0\n",
      "  frame_id: ''\n",
      "name: ['eye', 'eye_lid', 'hand', 'right_leg', 'left_leg']\n",
      "position: [9.662921056415039, 5.0457698941305456, 7.94044280168431, 8.612740384104157, 5.459568372729909]\n",
      "velocity: []\n",
      "effort: []\n",
      "---\n",
      "header: \n",
      "  seq: 13\n",
      "  stamp: \n",
      "    secs: 0\n",
      "    nsecs:         0\n",
      "  frame_id: ''\n",
      "name: ['eye', 'eye_lid', 'hand', 'right_leg', 'left_leg']\n",
      "position: [3.822917939711873, 6.70460973705059, 9.379993936397547, 1.4217977837085083, 6.581965097535018]\n",
      "velocity: []\n",
      "effort: []\n",
      "---\n",
      "header: \n",
      "  seq: 14\n",
      "  stamp: \n",
      "    secs: 0\n",
      "    nsecs:         0\n",
      "  frame_id: ''\n",
      "name: ['eye', 'eye_lid', 'hand', 'right_leg', 'left_leg']\n",
      "position: [7.8399434221120465, 9.623884224509013, 6.526586196767209, 4.129482509622728, 8.984168856129264]\n",
      "velocity: []\n",
      "effort: []\n",
      "---\n",
      "header: \n",
      "  seq: 15\n",
      "  stamp: \n",
      "    secs: 0\n",
      "    nsecs:         0\n",
      "  frame_id: ''\n",
      "name: ['eye', 'eye_lid', 'hand', 'right_leg', 'left_leg']\n",
      "position: [6.635631074916092, 7.283918890974607, 8.193250044888067, 7.759016802859121, 9.586126412056688]\n",
      "velocity: []\n",
      "effort: []\n",
      "---\n",
      "^C\n"
     ]
    }
   ],
   "source": [
    "!rostopic echo Ono/joint_state"
   ]
  },
  {
   "cell_type": "markdown",
   "metadata": {},
   "source": [
    "So this topic sends much more complicated messages. It uses one of common message types, called *Ono/joint_state*. As robots have multiple parts, connected using joints it is usually good to know how these joints are set. This can be used, for example, to visualize robot. The message has also a **header** that is a form of a **[timestamp](http://wiki.ros.org/ecl_time/Tutorials/Timestamps%20and%20Durations)** that gives us information when the message was sent. This is useful too, for example, use only the newest messages or even debug the communication if the header is strange or very old."
   ]
  },
  {
   "cell_type": "markdown",
   "metadata": {},
   "source": [
    "### Let's write our own publisher\n",
    "\n",
    "Ok, let's publish some messages."
   ]
  },
  {
   "cell_type": "code",
   "execution_count": 4,
   "metadata": {
    "collapsed": true
   },
   "outputs": [],
   "source": [
    "import rospy\n",
    "from std_msgs.msg import String\n",
    "\n",
    "#rospy... # initialize your node here! otherwise ROS will not know who and where your node is!\n",
    "rospy.init_node(\"my_name\", anonymous=True)"
   ]
  },
  {
   "cell_type": "markdown",
   "metadata": {},
   "source": [
    "Let's initialize the Publisher -- an object that publishes to the topic \"chatter\" a message in format of String. "
   ]
  },
  {
   "cell_type": "code",
   "execution_count": 18,
   "metadata": {
    "collapsed": true
   },
   "outputs": [],
   "source": [
    "my_publisher=rospy.Publisher(\"chatter\",String,queue_size=10)"
   ]
  },
  {
   "cell_type": "markdown",
   "metadata": {},
   "source": [
    "Ok, now let's publish some info. For simple messages like String, we can send the message super- easly."
   ]
  },
  {
   "cell_type": "code",
   "execution_count": 30,
   "metadata": {
    "scrolled": true
   },
   "outputs": [
    {
     "name": "stdout",
     "output_type": "stream",
     "text": [
      "data: Kocham Misia!!!"
     ]
    },
    {
     "name": "stderr",
     "output_type": "stream",
     "text": [
      "[ERROR] [1502128045.486342]: bad callback: <function how_long_in_my_message at 0x7ff2da8eb950>\n",
      "Traceback (most recent call last):\n",
      "  File \"/opt/ros/kinetic/lib/python2.7/dist-packages/rospy/topics.py\", line 750, in _invoke_callback\n",
      "    cb(msg)\n",
      "  File \"<ipython-input-15-65fa30820679>\", line 3, in how_long_in_my_message\n",
      "    len(message)\n",
      "TypeError: object of type 'String' has no len()\n",
      "\n"
     ]
    },
    {
     "name": "stdout",
     "output_type": "stream",
     "text": [
      "\n",
      "data: Kocham Misia!!!\n",
      "data: Kocham Misia!!!\n",
      "Kocham Misia!!!\n"
     ]
    }
   ],
   "source": [
    "my_publisher.publish(\"Kocham Misia!!!\")"
   ]
  },
  {
   "cell_type": "markdown",
   "metadata": {},
   "source": [
    "Ok but how to read what we have sent? One way is to use *rostopic echo* command but you cannot do this from Ipython this time because it will only show you the messages sent after you have started the program. You can do this by opening a Ubuntu terminal, using the icon on the left ![Ubuntu terminal icon](images/terminal.png)\n",
    "or shortcut Ctrl+Alt+T. Than put the command \n",
    "\n",
    "```rostopic echo /chatter``` \n",
    "\n",
    "\n",
    "When you re-run the publish command in Ipython, you should see your message appearing in the terminal."
   ]
  },
  {
   "cell_type": "markdown",
   "metadata": {},
   "source": [
    "Ok, with rospublish command our node became a ros publisher.\n",
    "We can see that using rosnode.get_node_info. To see the whole graph structure right now we can use graphical tool called rqt_graph (you can also start it in a seperate terminal)"
   ]
  },
  {
   "cell_type": "code",
   "execution_count": 9,
   "metadata": {
    "collapsed": true
   },
   "outputs": [],
   "source": [
    "!rqt_graph"
   ]
  },
  {
   "cell_type": "markdown",
   "metadata": {
    "collapsed": true
   },
   "source": [
    "What you see after running this command is whole ROS network graph. You can see your own node, among others, publishing on the /chatter topic. This type of communication allows for multiple senders and receivers."
   ]
  },
  {
   "cell_type": "markdown",
   "metadata": {},
   "source": [
    "### Let's write a Subscriber\n",
    "\n",
    "**Subscriber** is an object that receives messages written on a particular topic. We want to receive all **calls** to our subscriber so we will register a **callback function** to do stuff when we receive a new message. The easiest thing we can do with an incoming message is to print it, so let's put a *print* function as our callback function.\n",
    "\n",
    "After running the code below, you can check that your subscriber is working by using your previously defined publisher. Try to publish something to a /chatter topic!\n"
   ]
  },
  {
   "cell_type": "code",
   "execution_count": 11,
   "metadata": {},
   "outputs": [
    {
     "name": "stdout",
     "output_type": "stream",
     "text": [
      "data: I love Lidka\n",
      "data: I love Lidka!\n",
      "data: I love Lidka!\n"
     ]
    }
   ],
   "source": [
    "my_subscriber = rospy.Subscriber(\"chatter\",String,print)"
   ]
  },
  {
   "cell_type": "markdown",
   "metadata": {},
   "source": [
    "As soon as you create a new subscriber, you will start receiving a stream of messages and you will start to see the incoming messages. In case of \"/chatter\" topic they are published by your and other publishers, but imagine that there is an automatic publisher publishing every couple of messages. This could become overwhelming!\n",
    "\n",
    "If you want to stop running the callback, use the unregister method.\n"
   ]
  },
  {
   "cell_type": "code",
   "execution_count": 10,
   "metadata": {},
   "outputs": [
    {
     "name": "stderr",
     "output_type": "stream",
     "text": [
      "[WARN] [1502126080.699939]: Inbound TCP/IP connection failed: connection from sender terminated before handshake header received. 0 bytes were received. Please check sender for additional details.\n"
     ]
    }
   ],
   "source": [
    "my_subscriber.unregister()"
   ]
  },
  {
   "cell_type": "markdown",
   "metadata": {},
   "source": [
    "### Exercise:\n",
    "*Before we tackle this problem, try to write your own callback function to do something with received message. For example, read /how_long_is_my_message topic and print the length of the string*\n",
    "\n",
    "*HINT 1:* You can define a function using the normal\n",
    "\n",
    "    def some_function_name(message):\n",
    "        the stuff you do\n",
    "\n",
    "   and than pass the function _name_ as a callback so rospy.Subscriber(..., some_function_name)\n",
    "\n",
    "*HINT 2:* Remember that the message is an object with a field data (message.data) that actually has the string itself\n"
   ]
  },
  {
   "cell_type": "code",
   "execution_count": 25,
   "metadata": {
    "collapsed": true
   },
   "outputs": [],
   "source": [
    "def how_long_in_my_message(message):\n",
    "    #here do your magic change the print below to\n",
    "    print(message.data)\n",
    "    #len(message)\n",
    "    pass\n",
    "\n",
    "subscriber2= rospy.Subscriber(\"chatter\",String,how_long_in_my_message) # here create a subscriber that uses your function"
   ]
  },
  {
   "cell_type": "code",
   "execution_count": 22,
   "metadata": {
    "collapsed": true
   },
   "outputs": [],
   "source": [
    "subscriber2.unregister()"
   ]
  },
  {
   "cell_type": "code",
   "execution_count": 26,
   "metadata": {},
   "outputs": [
    {
     "name": "stdout",
     "output_type": "stream",
     "text": [
      "data: some test message\n",
      "data: some test message\n"
     ]
    },
    {
     "name": "stderr",
     "output_type": "stream",
     "text": [
      "[ERROR] [1502127291.162258]: bad callback: <function how_long_in_my_message at 0x7ff2da8eb950>\n",
      "Traceback (most recent call last):\n",
      "  File \"/opt/ros/kinetic/lib/python2.7/dist-packages/rospy/topics.py\", line 750, in _invoke_callback\n",
      "    cb(msg)\n",
      "  File \"<ipython-input-15-65fa30820679>\", line 3, in how_long_in_my_message\n",
      "    len(message)\n",
      "TypeError: object of type 'String' has no len()\n",
      "\n"
     ]
    },
    {
     "name": "stdout",
     "output_type": "stream",
     "text": [
      "data: some test message\n",
      "some test message\n",
      "data: I love Lidka!\n",
      "data: I love Lidka!\n",
      "data: I love Lidka!\n",
      "I love Lidka!\n"
     ]
    },
    {
     "name": "stderr",
     "output_type": "stream",
     "text": [
      "[ERROR] [1502127543.834674]: bad callback: <function how_long_in_my_message at 0x7ff2da8eb950>\n",
      "Traceback (most recent call last):\n",
      "  File \"/opt/ros/kinetic/lib/python2.7/dist-packages/rospy/topics.py\", line 750, in _invoke_callback\n",
      "    cb(msg)\n",
      "  File \"<ipython-input-15-65fa30820679>\", line 3, in how_long_in_my_message\n",
      "    len(message)\n",
      "TypeError: object of type 'String' has no len()\n",
      "\n"
     ]
    },
    {
     "name": "stdout",
     "output_type": "stream",
     "text": [
      "data: I love Lidka!\n",
      "data: I love Lidka!\n",
      "data: I love Lidka!\n",
      "I love Lidka!\n"
     ]
    },
    {
     "name": "stderr",
     "output_type": "stream",
     "text": [
      "[ERROR] [1502127707.059321]: bad callback: <function how_long_in_my_message at 0x7ff2da8eb950>\n",
      "Traceback (most recent call last):\n",
      "  File \"/opt/ros/kinetic/lib/python2.7/dist-packages/rospy/topics.py\", line 750, in _invoke_callback\n",
      "    cb(msg)\n",
      "  File \"<ipython-input-15-65fa30820679>\", line 3, in how_long_in_my_message\n",
      "    len(message)\n",
      "TypeError: object of type 'String' has no len()\n",
      "\n"
     ]
    },
    {
     "name": "stdout",
     "output_type": "stream",
     "text": [
      "data: I love Lidka ❤❤❤❤❤!\n",
      "data: I love Lidka ❤❤❤❤❤!\n",
      "data: I love Lidka ❤❤❤❤❤!\n",
      "I love Lidka ❤❤❤❤❤!\n"
     ]
    },
    {
     "name": "stderr",
     "output_type": "stream",
     "text": [
      "[ERROR] [1502127742.080575]: bad callback: <function how_long_in_my_message at 0x7ff2da8eb950>\n",
      "Traceback (most recent call last):\n",
      "  File \"/opt/ros/kinetic/lib/python2.7/dist-packages/rospy/topics.py\", line 750, in _invoke_callback\n",
      "    cb(msg)\n",
      "  File \"<ipython-input-15-65fa30820679>\", line 3, in how_long_in_my_message\n",
      "    len(message)\n",
      "TypeError: object of type 'String' has no len()\n",
      "\n"
     ]
    },
    {
     "name": "stdout",
     "output_type": "stream",
     "text": [
      "data: ❤❤❤❤❤ I love Lidka ❤❤❤❤❤!\n",
      "data: ❤❤❤❤❤ I love Lidka ❤❤❤❤❤!\n",
      "data: ❤❤❤❤❤ I love Lidka ❤❤❤❤❤!\n",
      "❤❤❤❤❤ I love Lidka ❤❤❤❤❤!\n"
     ]
    },
    {
     "name": "stderr",
     "output_type": "stream",
     "text": [
      "[ERROR] [1502127748.429330]: bad callback: <function how_long_in_my_message at 0x7ff2da8eb950>\n",
      "Traceback (most recent call last):\n",
      "  File \"/opt/ros/kinetic/lib/python2.7/dist-packages/rospy/topics.py\", line 750, in _invoke_callback\n",
      "    cb(msg)\n",
      "  File \"<ipython-input-15-65fa30820679>\", line 3, in how_long_in_my_message\n",
      "    len(message)\n",
      "TypeError: object of type 'String' has no len()\n",
      "\n"
     ]
    },
    {
     "name": "stdout",
     "output_type": "stream",
     "text": [
      "data: ❤ ❤ ❤ ❤ ❤ I love Lidka  ❤ ❤ ❤ ❤ ❤!\n",
      "data: ❤ ❤ ❤ ❤ ❤ I love Lidka  ❤ ❤ ❤ ❤ ❤!\n",
      "data: ❤ ❤ ❤ ❤ ❤ I love Lidka  ❤ ❤ ❤ ❤ ❤!\n",
      "❤ ❤ ❤ ❤ ❤ I love Lidka  ❤ ❤ ❤ ❤ ❤!\n"
     ]
    },
    {
     "name": "stderr",
     "output_type": "stream",
     "text": [
      "[ERROR] [1502127764.607935]: bad callback: <function how_long_in_my_message at 0x7ff2da8eb950>\n",
      "Traceback (most recent call last):\n",
      "  File \"/opt/ros/kinetic/lib/python2.7/dist-packages/rospy/topics.py\", line 750, in _invoke_callback\n",
      "    cb(msg)\n",
      "  File \"<ipython-input-15-65fa30820679>\", line 3, in how_long_in_my_message\n",
      "    len(message)\n",
      "TypeError: object of type 'String' has no len()\n",
      "\n"
     ]
    }
   ],
   "source": [
    "# try your function using the publisher\n",
    "\n",
    "my_publisher.publish(\"some test message\")"
   ]
  },
  {
   "cell_type": "markdown",
   "metadata": {},
   "source": [
    "## Exercise: \n",
    "\n",
    "Ok, nice! \n",
    "\n",
    "*Now create a new publisher, to some choosen topic (you decide) and  use it to publish the length of received string. That is your new function will modify the incomming messages, something like:*\n",
    "\n",
    "/how_long_is_my_message -> | your node | -> /message_length\n",
    "\n",
    "*HINT:*\n",
    "Call the newly created publisher from inside the callback function. \n",
    "\n",
    "\n"
   ]
  },
  {
   "cell_type": "code",
   "execution_count": null,
   "metadata": {
    "collapsed": true
   },
   "outputs": [],
   "source": [
    "publisher= ... #here create a publisher to the new topic\n",
    "\n",
    "def receive_and_modify(message): #here \n",
    "    pass\n",
    "\n",
    "\n",
    "new_subscriber=..."
   ]
  },
  {
   "cell_type": "markdown",
   "metadata": {},
   "source": [
    "Super nice! What you did is a common strategy used in ROS. Instead of one program that does all the computations, each node takes some messages from different topics and publishes your own. You connect them together and have a computation structure to, for example do robot localisation. \n",
    "\n"
   ]
  },
  {
   "cell_type": "markdown",
   "metadata": {},
   "source": [
    "### ROS  Service\n",
    "\n",
    "Services are a common way to ask for some data/ calculation or change a state of the robot. \n",
    "\n",
    "Similar to ROS topic, both actors need to know the format of message. There will be actually two formats, format of question and format of the answer. \n",
    "\n",
    "Let's see how such format looks"
   ]
  },
  {
   "cell_type": "code",
   "execution_count": 14,
   "metadata": {
    "scrolled": true
   },
   "outputs": [
    {
     "name": "stdout",
     "output_type": "stream",
     "text": [
      "bool data\r\n",
      "---\r\n",
      "bool success\r\n",
      "string message\r\n",
      "\r\n"
     ]
    }
   ],
   "source": [
    "!rossrv show std_srvs/SetBool"
   ]
  },
  {
   "cell_type": "markdown",
   "metadata": {},
   "source": [
    "What you can see is that for a question sent as a boolean data (True/False) \n",
    "the service will respond with a boolean response as well as a message for us.\n",
    "\n",
    "Ono has a big diode, we will try to switch it on. To do this, we will use a **proxy function**, that is we will define something that uses the service but from our perspective looks like a normal function that _returns_ some value. Try running this function couple of times. "
   ]
  },
  {
   "cell_type": "code",
   "execution_count": null,
   "metadata": {
    "collapsed": true
   },
   "outputs": [],
   "source": []
  },
  {
   "cell_type": "markdown",
   "metadata": {},
   "source": [
    "As we can see, sometimes we suceed in setting up the diode, sometimes we fail, and ono explains why. This is a common scenario in robotics that things can go wrong and we have a choice of re running something or trying something else.\n",
    "\n",
    "To write our own service, we use\n",
    "\n",
    "\n"
   ]
  },
  {
   "cell_type": "markdown",
   "metadata": {},
   "source": [
    "### ROS Param\n",
    "\n",
    "The last (common) way of communication between nodes is ROS Param. \n",
    "\n",
    "All nodes have access to a common _dictionary_ like structure, from which they can read and write parameters.\n",
    "\n",
    "The typical scenario is that we write some setup parameters to ROS Parameter server instead than just to start a program with command line arguments. Other is to put elements that are used by multiple programs such as URDF robot models\n",
    "\n",
    "Think of ROS Param as a place to put settings and common data of your ROS network. \n",
    "\n",
    "Using ROS Parameter is done via rosparam module"
   ]
  },
  {
   "cell_type": "code",
   "execution_count": 19,
   "metadata": {
    "scrolled": true
   },
   "outputs": [
    {
     "data": {
      "text/plain": [
       "['/rosdistro',\n",
       " '/roslaunch/uris/host_igor_laptop_linux__57314',\n",
       " '/rosversion',\n",
       " '/run_id']"
      ]
     },
     "execution_count": 19,
     "metadata": {},
     "output_type": "execute_result"
    }
   ],
   "source": [
    "import rosparam\n",
    "\n",
    "rosparam.list_params(\"/\")"
   ]
  },
  {
   "cell_type": "code",
   "execution_count": null,
   "metadata": {
    "collapsed": true
   },
   "outputs": [],
   "source": []
  }
 ],
 "metadata": {
  "kernelspec": {
   "display_name": "Python 3",
   "language": "python",
   "name": "python3"
  },
  "language_info": {
   "codemirror_mode": {
    "name": "ipython",
    "version": 3
   },
   "file_extension": ".py",
   "mimetype": "text/x-python",
   "name": "python",
   "nbconvert_exporter": "python",
   "pygments_lexer": "ipython3",
   "version": "3.5.2"
  }
 },
 "nbformat": 4,
 "nbformat_minor": 2
}
