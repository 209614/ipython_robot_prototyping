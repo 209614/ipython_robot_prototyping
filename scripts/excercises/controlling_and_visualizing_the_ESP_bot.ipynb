{
 "cells": [
  {
   "cell_type": "markdown",
   "metadata": {},
   "source": [
    "### Excercise: control the ESPbot\n",
    "\n",
    "From now on we will be using our ESPBots to play with ROS. Our goal is learn how to control this robot in a easy way so that we can rapidly create some interesting scenarios for it. IPython's tools will help us get the interactive behaviour in the fastest way.\n",
    "\n",
    "\n",
    "Each of ESPBots has a servo -- a motor which position we can control directely and a light sensor which measures the amount of light that is received to it.\n",
    "\n",
    "\n",
    "As there are couple of ESPBots avalible, look how the one you are controlling is called as his topics are published in his **namespace**. My one is called BOT1 and he is subscribed to a topic. You can check the types of messages using the info from previous notebooks\n",
    "\n",
    "/BOTX/servo_pos\n",
    "\n",
    "/BOTX/mirror\n",
    "\n",
    "/BOTX/\n",
    "\n",
    "He publishes  values of its  sensor on \n",
    "\n",
    "/BOTX/sensor_val\n",
    "\n",
    "\n",
    "Your goal is to create an interactive slider to move the servo. Good luck :)"
   ]
  },
  {
   "cell_type": "code",
   "execution_count": 1,
   "metadata": {
    "scrolled": true
   },
   "outputs": [
    {
     "name": "stdout",
     "output_type": "stream",
     "text": [
      "env: ROS_MASTER_URI=http://igor_duzy:11311\n"
     ]
    }
   ],
   "source": [
    "%env ROS_MASTER_URI=http://igor_duzy:11311"
   ]
  },
  {
   "cell_type": "code",
   "execution_count": null,
   "metadata": {
    "collapsed": true
   },
   "outputs": [],
   "source": [
    "# how to do this\n",
    "\n",
    "# import the right things, like the correct topic message (what does the servo_pos want?)\n",
    "\n",
    "#rospy.init ... #I suggest running with anonymous=True\n",
    "\n",
    "#define the publisher here\n",
    "\n",
    "# define your function here\n",
    "\n",
    "#\n",
    "\n",
    "# use ipywidgets.interact_manual with the correct settings"
   ]
  },
  {
   "cell_type": "markdown",
   "metadata": {},
   "source": [
    "### Excercise\n",
    "\n",
    "In this excercise you will connect to your esp bot to read its sensor.\n",
    "\n",
    "You need to be connected to the main ROS network to see your robot. \n",
    "\n"
   ]
  },
  {
   "cell_type": "code",
   "execution_count": null,
   "metadata": {
    "collapsed": true
   },
   "outputs": [],
   "source": [
    "# how to do this\n",
    "\n",
    "# import the correct things\n",
    "\n",
    "# try couple of different ways:\n",
    "\n",
    "# define a slider, let the callback function for the subscriber move the slider\n",
    "\n",
    "# plot the value on a plot, the callback function can \"stream\" the data to a bokeh plot\n",
    "\n",
    "#if you want to go fancy, build an observer object with traitlets"
   ]
  }
 ],
 "metadata": {
  "kernelspec": {
   "display_name": "Python 3",
   "language": "python",
   "name": "python3"
  },
  "language_info": {
   "codemirror_mode": {
    "name": "ipython",
    "version": 3
   },
   "file_extension": ".py",
   "mimetype": "text/x-python",
   "name": "python",
   "nbconvert_exporter": "python",
   "pygments_lexer": "ipython3",
   "version": "3.4.3"
  }
 },
 "nbformat": 4,
 "nbformat_minor": 2
}
